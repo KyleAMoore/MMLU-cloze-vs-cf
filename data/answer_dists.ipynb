{
 "cells": [
  {
   "cell_type": "code",
   "execution_count": 2,
   "metadata": {},
   "outputs": [],
   "source": [
    "import csv\n",
    "import pandas as pd\n",
    "import ast\n",
    "import matplotlib \n",
    "import seaborn as sns\n",
    "\n",
    "\n",
    "sns.set_theme()"
   ]
  },
  {
   "cell_type": "code",
   "execution_count": 12,
   "metadata": {},
   "outputs": [],
   "source": [
    "def load_data(data_file, convert_prob=True):\n",
    "    data = pd.read_csv(data_file, header=None)\n",
    "    return pd.DataFrame(data)"
   ]
  },
  {
   "cell_type": "code",
   "execution_count": 19,
   "metadata": {},
   "outputs": [],
   "source": [
    "subjects = [\n",
    "                'abstract_algebra',\n",
    "                'anatomy',\n",
    "                'astronomy',\n",
    "                'business_ethics',\n",
    "                'clinical_knowledge',\n",
    "                'college_biology',\n",
    "                'college_chemistry',\n",
    "                'college_computer_science',\n",
    "                'college_mathematics',\n",
    "                'college_medicine',\n",
    "                'college_physics',\n",
    "                'computer_security',\n",
    "                'conceptual_physics',\n",
    "                'econometrics',\n",
    "                'electrical_engineering',\n",
    "                'elementary_mathematics',\n",
    "                'formal_logic',\n",
    "                'global_facts',\n",
    "                'high_school_biology',\n",
    "                'high_school_chemistry',\n",
    "                'high_school_computer_science',\n",
    "                'high_school_european_history',\n",
    "                'high_school_geography',\n",
    "                'high_school_government_and_politics',\n",
    "                'high_school_macroeconomics',\n",
    "                'high_school_mathematics',\n",
    "                'high_school_microeconomics',\n",
    "                'high_school_physics',\n",
    "                'high_school_psychology',\n",
    "                'high_school_statistics',\n",
    "                'high_school_us_history',\n",
    "                'high_school_world_history',\n",
    "                'human_aging',\n",
    "                'human_sexuality',\n",
    "                'international_law',\n",
    "                'jurisprudence',\n",
    "                'logical_fallacies',\n",
    "                'machine_learning',\n",
    "                'management',\n",
    "                'marketing',\n",
    "                'medical_genetics',\n",
    "                'miscellaneous',\n",
    "                'moral_disputes',\n",
    "                'moral_scenarios',\n",
    "                'nutrition',\n",
    "                'philosophy',\n",
    "                'prehistory',\n",
    "                'professional_accounting',\n",
    "                'professional_law',\n",
    "                'professional_medicine',\n",
    "                'professional_psychology',\n",
    "                'public_relations',\n",
    "                'security_studies',\n",
    "                'sociology',\n",
    "                'us_foreign_policy',\n",
    "                'virology',\n",
    "                'world_religions',\n",
    "              ]\n",
    "\n",
    "df = pd.DataFrame(columns=['Answer Choice', 'Proportion'])\n",
    "\n",
    "for s in subjects:\n",
    "    data = load_data(f'./MMLU_src/test/{s}_test.csv')\n",
    "    counts = data.value_counts([5], normalize=True, sort=False)\n",
    "\n",
    "    for c, p in zip('ABCD', counts):\n",
    "        df.loc[len(df)] = [c, p]"
   ]
  },
  {
   "cell_type": "code",
   "execution_count": 20,
   "metadata": {},
   "outputs": [
    {
     "name": "stdout",
     "output_type": "stream",
     "text": [
      "               Proportion\n",
      "Answer Choice            \n",
      "A                0.231169\n",
      "B                0.244620\n",
      "C                0.253831\n",
      "D                0.270380\n",
      "               Proportion\n",
      "Answer Choice            \n",
      "A                0.041621\n",
      "B                0.042041\n",
      "C                0.043641\n",
      "D                0.077838\n"
     ]
    }
   ],
   "source": [
    "print(df.groupby(['Answer Choice']).mean())\n",
    "print(df.groupby(['Answer Choice']).std())"
   ]
  },
  {
   "cell_type": "code",
   "execution_count": 21,
   "metadata": {},
   "outputs": [
    {
     "data": {
      "text/plain": [
       "<seaborn.axisgrid.FacetGrid at 0x1c6356b8210>"
      ]
     },
     "execution_count": 21,
     "metadata": {},
     "output_type": "execute_result"
    },
    {
     "data": {
      "image/png": "[encoded data removed]",
      "text/plain": [
       "<Figure size 800x400 with 1 Axes>"
      ]
     },
     "metadata": {},
     "output_type": "display_data"
    }
   ],
   "source": [
    "sns.catplot(data=df, x=\"Answer Choice\", y=\"Proportion\", hue='Answer Choice', kind=\"box\", height=4, aspect=2)"
   ]
  }
 ],
 "metadata": {
  "kernelspec": {
   "display_name": "base",
   "language": "python",
   "name": "python3"
  },
  "language_info": {
   "codemirror_mode": {
    "name": "ipython",
    "version": 3
   },
   "file_extension": ".py",
   "mimetype": "text/x-python",
   "name": "python",
   "nbconvert_exporter": "python",
   "pygments_lexer": "ipython3",
   "version": "3.11.8"
  }
 },
 "nbformat": 4,
 "nbformat_minor": 2
}
